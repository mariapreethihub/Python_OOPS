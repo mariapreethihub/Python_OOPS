{
 "cells": [
  {
   "cell_type": "markdown",
   "id": "3abce0a0-be46-4cad-a3c0-f484867300c0",
   "metadata": {},
   "source": [
    " # Assignment 6 OOPS"
   ]
  },
  {
   "cell_type": "markdown",
   "id": "7bbc6f1c-b7f2-420a-a1e7-26ecc88f70f5",
   "metadata": {},
   "source": [
    "## 1.Build a program to manage a university's course catalog. You want to define a base class Course that has the following properties: course_code: a string representing the course code (e.g., \"CS101\"),course_name: a string representing the course name (e.g., \"Introduction to Computer Science\"),credit_hours: an integer representing the credit hours for the course (e.g., 3).You also want to define two subclasses CoreCourse and ElectiveCourse, which inherit from the Course class. CoreCourse should have an additional property required_for_major which is a boolean representing whether the course is required for a particular major.ElectiveCourse should have an additional property elective_type which is a string representing the type of elective (e.g., \"general\", \"technical\", \"liberal arts\")."
   ]
  },
  {
   "cell_type": "code",
   "execution_count": 71,
   "id": "78127342-0b39-4b78-be3a-987e89a11c7e",
   "metadata": {},
   "outputs": [
    {
     "name": "stdout",
     "output_type": "stream",
     "text": [
      "Course_Code:CS101\n",
      "Course_Name:CS\n",
      "Credit_Hours:3\n",
      "Major Required:Yes\n",
      "\n",
      "\n",
      "Course_Code:CS101\n",
      "Course_Name:CS\n",
      "Credit_Hours:3\n",
      "Elective Type:General\n"
     ]
    }
   ],
   "source": [
    "class Course:                                                              #creating class Course\n",
    "    university=\"MG\"\n",
    "    def __init__(self,course_code,course_name,credit_hours):\n",
    "        self.course_code=course_code                                              # attributes\n",
    "        self.course_name=course_name\n",
    "        self.credit_hours=credit_hours\n",
    "\n",
    "class CoreCourse(Course):                                                         # Child Class\n",
    "    def __init__(self,course_code,course_name,credit_hours,required_for_major):\n",
    "        super().__init__(course_code,course_name,credit_hours)\n",
    "        self.required_for_major=required_for_major\n",
    "        \n",
    "    def core_details(self):                                                       # class method\n",
    "        if self.required_for_major :\n",
    "            major_required = \"Yes\" \n",
    "        else :\n",
    "            major_required = \"No\"     \n",
    "        print(f\"Course_Code:{self.course_code}\\n\"\n",
    "              f\"Course_Name:{self.course_name}\\n\"\n",
    "              f\"Credit_Hours:{self.credit_hours}\\n\"\n",
    "              f\"Major Required:{major_required}\")\n",
    "         \n",
    "class ElectiveCourse(Course):\n",
    "    def __init__(self,course_code,course_name,credit_hours,elective_type):\n",
    "        super().__init__(course_code,course_name,credit_hours)\n",
    "        self.elective_type=elective_type\n",
    "    \n",
    "    def elective_details(self):\n",
    "         print(f\"Course_Code:{self.course_code}\\n\"\n",
    "               f\"Course_Name:{self.course_name}\\n\"\n",
    "               f\"Credit_Hours:{self.credit_hours}\\n\"\n",
    "               f\"Elective Type:{self.elective_type}\")\n",
    "\n",
    "catalog=CoreCourse('CS101','Computer Science',3,True)                               # object creation\n",
    "catalog1=ElectiveCourse('CS101','Computer Science',3,\"General\")\n",
    "\n",
    "catalog.core_details()\n",
    "print(\"\\n\")\n",
    "catalog1.elective_details()"
   ]
  },
  {
   "cell_type": "markdown",
   "id": "a33b79fc-af90-426b-ac29-2cab9c4e5394",
   "metadata": {},
   "source": [
    "## 2.Create a Python module named employee that contains a class Employee with attributes name, salary and methods get_name() and get_salary(). Write a program to use this module to create an object of the Employee class and display its name and salary."
   ]
  },
  {
   "cell_type": "code",
   "execution_count": 23,
   "id": "fb63bf03-38aa-4cf8-ad83-ead79bd2ed14",
   "metadata": {},
   "outputs": [],
   "source": [
    "# module employee.py is created with class Employee\n",
    "\n",
    "class Employee:\n",
    "    def __init__(self,name,salary):\n",
    "        self.name=name\n",
    "        self.salary=salary\n",
    "    def get_name(self):\n",
    "        print(\"Employee name :\",self.name)\n",
    "    def get_salary(self):\n",
    "        print(\"Salary of the employee is : \",self.salary)\n"
   ]
  },
  {
   "cell_type": "code",
   "execution_count": 25,
   "id": "d9dc427d-d48e-4cec-aaf7-3bbcd8363cc2",
   "metadata": {},
   "outputs": [
    {
     "name": "stdout",
     "output_type": "stream",
     "text": [
      "Employee name : Sam\n",
      "Salary of the employee  Sam is  75000\n"
     ]
    }
   ],
   "source": [
    "import employee                                          #importing employee module\n",
    "e=employee.Employee(\"Sam\",75000)\n",
    "e.get_name()\n",
    "e.get_salary()\n"
   ]
  },
  {
   "cell_type": "code",
   "execution_count": null,
   "id": "d823ca62-956b-42fb-99a9-aa74f2f79f0a",
   "metadata": {},
   "outputs": [],
   "source": []
  }
 ],
 "metadata": {
  "kernelspec": {
   "display_name": "Python [conda env:base] *",
   "language": "python",
   "name": "conda-base-py"
  },
  "language_info": {
   "codemirror_mode": {
    "name": "ipython",
    "version": 3
   },
   "file_extension": ".py",
   "mimetype": "text/x-python",
   "name": "python",
   "nbconvert_exporter": "python",
   "pygments_lexer": "ipython3",
   "version": "3.12.7"
  }
 },
 "nbformat": 4,
 "nbformat_minor": 5
}
